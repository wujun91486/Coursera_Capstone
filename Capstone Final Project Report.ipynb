{
    "nbformat_minor": 1, 
    "cells": [
        {
            "source": "# Capstone Final Project Report", 
            "cell_type": "markdown", 
            "metadata": {
                "collapsed": true
            }
        }, 
        {
            "source": "## Introduction part", 
            "cell_type": "markdown", 
            "metadata": {}
        }, 
        {
            "source": "### Part 1: problem description", 
            "cell_type": "markdown", 
            "metadata": {}
        }, 
        {
            "source": "#### A meat supplier contractor is planning to expand their service in one of the boroughs of Toronto(Scarborough). The plan is to provide fresh and high quality meat to the restaurants in this borough. The contractor will build long term cooperation relationship with most of the restaurants in this borough with a commitment of high quality meat.\n\n#### The meat warehouse will be set up in this borough for this purpose. In order to purchase the fresh meat locally and deliver the meat to customers quickly, the wareshouse need to be close to those restaurants. In the meantime, If the meat warehouse is closer to its customers, the cost of transpotation can be reduced in the meantime. Our mission is to find the right neighborhood for this contractor to running their meat suppling business.", 
            "cell_type": "markdown", 
            "metadata": {}
        }, 
        {
            "source": "### Part 2: Data for solve the problem", 
            "cell_type": "markdown", 
            "metadata": {}
        }, 
        {
            "source": "#### Basically, we need geo-locational information about that specific borough, which includes latitude and longitude info of that borough. In this project, we will assume this borough is \"Scarborough\" in Toronto, which has been decided by the contractor according to their business plan. From the retrieved data, we will first find neighborhoods within Scarborough by their corresponding Postal Codes.\n\n#### We will also need data about different venues in different neighborhoods of Scarborough. We will use \"Foursquare\" locational information to acquire these info. For each venue in all neighborhoods, we need the basic information, such as the latitude and longitude, and the distance from the center of the neighborhood. In the mean time, we also need some other valuable information, such as the category of that venue, and whether the venue is a popular one in its category.", 
            "cell_type": "markdown", 
            "metadata": {}
        }, 
        {
            "source": "## Main body of the report", 
            "cell_type": "markdown", 
            "metadata": {}
        }, 
        {
            "source": "### Part 1: Finding all Neighborhoods in \"Scarborough\"\u00b6\n\n#### We use Postal Codes of different regions inside Scarborough to find the list of neighborhoods. We get the needed information from https://en.wikipedia.org/wiki/List_of_postal_codes_of_Canada:_M and then process the table inside this site.  \n\n### Part 2: Retrieving Locational Data for each venue in each Neighborhood from Foursquare\n\n#### With the list of neighborhoods, we connect to the Foursquare API to retrieve information about venues inside each and every neighborhood. For each neighborhood, we have chosen the radius to be 1000 meter. \n\n### Part 3: Processing and Creating a DataFrome for All the Venues inside the Scarborough\n\n#### We perform processing on the raw data to find our desirable features for each venue. Our main feature is the category of that venue. Then, the column \"Venue's Category\" wil be One-hot encoded and different venues will have different feature-columns. After On-hot encoding we will integrate all restaurant columns to one column \"Total Restaurants\" and all food joint columns to \"Total Joints\" column. \n\n### Part 4: Applying one of Machine Learning Techniques (K-Means Clustering)\n#### We cluster neighborhoods via K-means clustering method. We think that 5 clusters is enough for our problem. After clustering we will update our dataset and create a column representing the group for each neighborhood.", 
            "cell_type": "markdown", 
            "metadata": {}
        }, 
        {
            "source": "## Final Results\u00b6\n\n#### We focus on the centers of clusters and compare them for their \"Total Restaurants\" and their \"Total Joints\". The group which its center has the highest \"Total Sum\" will be our best recommendation to the contractor. {Note: Total Sum = Total Restaurants + Total Joints + Other Venues.} \n\n### Results:\n\n#### Based on this analysis, the best recommended neighborhood will be:\n#### {'Neighborhood': 'Agincourt',\n####  'Neighborhood Latitude': 43.7942003,\n####  'Neighborhood Longitude': -79.262029400000017,\n####  'Postal Code': 'M1S'}", 
            "cell_type": "markdown", 
            "metadata": {}
        }, 
        {
            "execution_count": null, 
            "cell_type": "code", 
            "metadata": {}, 
            "outputs": [], 
            "source": ""
        }
    ], 
    "metadata": {
        "kernelspec": {
            "display_name": "Python 3.5", 
            "name": "python3", 
            "language": "python"
        }, 
        "language_info": {
            "mimetype": "text/x-python", 
            "nbconvert_exporter": "python", 
            "version": "3.5.5", 
            "name": "python", 
            "file_extension": ".py", 
            "pygments_lexer": "ipython3", 
            "codemirror_mode": {
                "version": 3, 
                "name": "ipython"
            }
        }
    }, 
    "nbformat": 4
}