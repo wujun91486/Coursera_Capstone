{
    "nbformat_minor": 1, 
    "cells": [
        {
            "source": "# A good business location for a Meat supplier Contractor", 
            "cell_type": "markdown", 
            "metadata": {
                "collapsed": true
            }
        }, 
        {
            "source": "## Part 1: The problem and it's background", 
            "cell_type": "markdown", 
            "metadata": {}
        }, 
        {
            "source": "### A meat supplier contractor is planning to expand their service in one of the boroughs of Toronto(Scarborough). The plan is to provide fresh and high quality meat to the restaurants in this borough.  The contractor will build long term cooperation relationship with most of the restaurants in this borough with a commitment of high quality meat. \n\n### The meat warehouse will be set up in this borough for this purpose. In order to purchase the fresh meat locally and deliver the meat to customers quickly, the wareshouse need to be close to those restaurants.  In the meantime, If the meat warehouse is closer to its customers, the cost of transpotation can be reduced in the meantime. Our mission is to find the right neighborhood for this contractor to running their meat suppling business. ", 
            "cell_type": "markdown", 
            "metadata": {}
        }, 
        {
            "source": "## Part 2:  The data for solving this problem", 
            "cell_type": "markdown", 
            "metadata": {}
        }, 
        {
            "source": "### Basically, we need geo-locational information about that specific borough, which includes latitude and longitude info of that borough. In this project, we will assume this borough is \"Scarborough\" in Toronto, which has been decided by the contractor according to their business plan. From the retrieved data, we will first find neighborhoods within Scarborough by their corresponding Postal Codes.\u00b6\n\n### We will also need data about different venues in different neighborhoods of Scarborough. We will use \"Foursquare\" locational information to acquire these info. For each venue in all neighborhoods, we need the basic information, such as the latitude and longitude, and the distance from the center of the neighborhood. In the mean time, we also need some other valuable information,  such as the category of that venue,  and whether the venue is a popular one in its category. ", 
            "cell_type": "markdown", 
            "metadata": {}
        }, 
        {
            "execution_count": null, 
            "cell_type": "code", 
            "metadata": {}, 
            "outputs": [], 
            "source": ""
        }
    ], 
    "metadata": {
        "kernelspec": {
            "display_name": "Python 3.5", 
            "name": "python3", 
            "language": "python"
        }, 
        "language_info": {
            "mimetype": "text/x-python", 
            "nbconvert_exporter": "python", 
            "version": "3.5.5", 
            "name": "python", 
            "file_extension": ".py", 
            "pygments_lexer": "ipython3", 
            "codemirror_mode": {
                "version": 3, 
                "name": "ipython"
            }
        }
    }, 
    "nbformat": 4
}